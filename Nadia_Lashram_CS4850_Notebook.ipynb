{
 "cells": [
  {
   "cell_type": "markdown",
   "id": "54acacd6",
   "metadata": {},
   "source": [
    "# **Data Mining CW**\n",
    "#### Student: Nadia Lashram\n",
    "#### Student ID: 180001770\n",
    "#### Programme: MSC AAI"
   ]
  },
  {
   "cell_type": "markdown",
   "id": "9494b16e",
   "metadata": {},
   "source": [
    "This document will go through the analysis of a dataset containing epitope information for the T.cruzi parasite. This dataset will be used to create a predition pipeline which will then be used on a set of feature data to predict the classes to which the epitope features belong. "
   ]
  },
  {
   "cell_type": "markdown",
   "id": "af341ed6",
   "metadata": {},
   "source": [
    "## **Exploratory Data Analysis and Pre-processing**\n",
    "EDA is performed on the dataset to check the structure, missing values, outliers, and treat them as part of data pre-processing"
   ]
  },
  {
   "cell_type": "code",
   "execution_count": 128,
   "id": "e06e581c",
   "metadata": {},
   "outputs": [
    {
     "name": "stdout",
     "output_type": "stream",
     "text": [
      "<bound method NDFrame.describe of            Info_PepID  Info_organism_id Info_protein_id  Info_pos Info_AA  \\\n",
      "0      XP_809948.1:15              5693     XP_809948.1       218       E   \n",
      "1      XP_809948.1:15              5693     XP_809948.1       219       E   \n",
      "2      XP_809948.1:15              5693     XP_809948.1       220       D   \n",
      "3      XP_809948.1:15              5693     XP_809948.1       221       N   \n",
      "4      XP_809948.1:15              5693     XP_809948.1       222       E   \n",
      "...               ...               ...             ...       ...     ...   \n",
      "49601   XP_812261.1:6              5693     XP_812261.1        94       I   \n",
      "49602  XP_804477.1:18              5693     XP_804477.1       370       D   \n",
      "49603   XP_813734.1:4              5693     XP_813734.1       112       G   \n",
      "49604   XP_812183.1:6              5693     XP_812183.1       144       G   \n",
      "49605  XP_814147.1:10              5693     XP_814147.1       190       E   \n",
      "\n",
      "                   Info_epitope_id Info_nPos Info_nNeg  Info_cluster  Class  \\\n",
      "0                           276453         1         0            18      1   \n",
      "1                           276453         1         0            18      1   \n",
      "2                           276453         1         0            18      1   \n",
      "3                           276453         1         0            18      1   \n",
      "4                           276453         1         0            18      1   \n",
      "...                            ...       ...       ...           ...    ...   \n",
      "49601                       300245         0         1           157     -1   \n",
      "49602  373881,390461,251259,388295   0,0,0,0   1,1,1,1            35     -1   \n",
      "49603                356379,323345       0,0       1,1            24     -1   \n",
      "49604                301626,297474       0,0       1,1            18     -1   \n",
      "49605                       309252         0         1            70     -1   \n",
      "\n",
      "       ...  feat_esm1b_1271  feat_esm1b_1272  feat_esm1b_1273  \\\n",
      "0      ...        -0.177248        -0.275432         0.175780   \n",
      "1      ...        -0.089673        -0.258615         0.063662   \n",
      "2      ...        -0.037816        -0.205189         0.220458   \n",
      "3      ...        -0.249216        -0.211748        -0.130716   \n",
      "4      ...        -0.039318        -0.250912        -0.093870   \n",
      "...    ...              ...              ...              ...   \n",
      "49601  ...         0.472350        -0.247337        -0.309765   \n",
      "49602  ...         0.001537        -0.036722         0.038110   \n",
      "49603  ...        -0.208069        -0.180131        -0.014111   \n",
      "49604  ...        -0.275757        -0.179628         0.013488   \n",
      "49605  ...        -0.109526        -0.199076         0.050413   \n",
      "\n",
      "       feat_esm1b_1274  feat_esm1b_1275  feat_esm1b_1276  feat_esm1b_1277  \\\n",
      "0            -2.618115        -0.306478         0.248409        -0.144645   \n",
      "1            -2.660741        -0.227916         0.233011        -0.143840   \n",
      "2            -2.610207        -0.156326         0.231606         0.251916   \n",
      "3            -2.598186        -0.130838        -0.026848         0.167203   \n",
      "4            -2.414023        -0.253500         0.118345        -0.160718   \n",
      "...                ...              ...              ...              ...   \n",
      "49601         0.190045        -0.181312        -0.058894         0.025527   \n",
      "49602        -2.018414        -0.437113        -0.024533         0.138691   \n",
      "49603        -1.502984        -0.317111         0.012365         0.132795   \n",
      "49604        -1.108764        -0.278636         0.388318        -0.034176   \n",
      "49605        -1.877750        -0.419302        -0.021825        -0.138143   \n",
      "\n",
      "       feat_esm1b_1278  feat_esm1b_1279  feat_esm1b_1280  \n",
      "0            -0.163276         0.101016         0.571763  \n",
      "1            -0.119282         0.146848         0.507656  \n",
      "2             0.077030         0.326192         0.071661  \n",
      "3            -0.394126         0.222274         0.376358  \n",
      "4            -0.076750         0.448067         0.326883  \n",
      "...                ...              ...              ...  \n",
      "49601        -0.083306        -0.002887         0.077993  \n",
      "49602        -0.172405         0.448034        -0.251285  \n",
      "49603        -0.324255         0.145919         0.072326  \n",
      "49604        -0.226525         0.577863         0.172114  \n",
      "49605        -0.517270         0.334061         0.237317  \n",
      "\n",
      "[49606 rows x 1291 columns]>\n",
      "<class 'pandas.core.frame.DataFrame'>\n",
      "RangeIndex: 49606 entries, 0 to 49605\n",
      "Columns: 1291 entries, Info_PepID to feat_esm1b_1280\n",
      "dtypes: float64(1281), int64(4), object(6)\n",
      "memory usage: 488.6+ MB\n",
      "None\n",
      "(49606, 1291)\n"
     ]
    }
   ],
   "source": [
    "#Import the libaries required for analysis and pre-processing\n",
    "\n",
    "import pandas as pd\n",
    "import numpy as np\n",
    "import matplotlib.pyplot as plt\n",
    "from sklearn.model_selection import GroupShuffleSplit\n",
    "\n",
    "df=pd.read_csv('df.csv', sep = ';') #read data\n",
    "print (df.describe) #shows the data in table\n",
    "print (df.info()) #givs information relating to data\n",
    "print (df.shape) #(observations,variables)"
   ]
  },
  {
   "cell_type": "code",
   "execution_count": 129,
   "id": "84a0fdaf",
   "metadata": {},
   "outputs": [
    {
     "name": "stdout",
     "output_type": "stream",
     "text": [
      "Info_PepID           0\n",
      "Info_organism_id     0\n",
      "Info_protein_id      0\n",
      "Info_pos             0\n",
      "Info_AA              0\n",
      "                    ..\n",
      "feat_esm1b_1276     84\n",
      "feat_esm1b_1277     85\n",
      "feat_esm1b_1278     83\n",
      "feat_esm1b_1279     81\n",
      "feat_esm1b_1280     82\n",
      "Length: 1291, dtype: int64\n",
      "feat_esm1b_148     44655\n",
      "feat_esm1b_1121       88\n",
      "feat_esm1b_469        88\n",
      "feat_esm1b_332        88\n",
      "feat_esm1b_56         88\n",
      "                   ...  \n",
      "Info_epitope_id        0\n",
      "Info_AA                0\n",
      "Info_pos               0\n",
      "Info_protein_id        0\n",
      "Info_PepID             0\n",
      "Length: 1291, dtype: int64\n"
     ]
    }
   ],
   "source": [
    "#Check Dataframe for missing feature values\n",
    "missing_features = df.isnull().sum()\n",
    "missing_features_sorted = missing_features.sort_values(ascending=False)\n",
    "print(missing_features)\n",
    "print(missing_features_sorted)"
   ]
  },
  {
   "cell_type": "code",
   "execution_count": 130,
   "id": "74a8cf15",
   "metadata": {},
   "outputs": [],
   "source": [
    "#Remove feature with most missing values from full dataset\n",
    "df.drop(columns = ['feat_esm1b_148'], inplace = True)"
   ]
  },
  {
   "cell_type": "code",
   "execution_count": 131,
   "id": "c3b3d91a",
   "metadata": {},
   "outputs": [
    {
     "name": "stdout",
     "output_type": "stream",
     "text": [
      "feat_esm1b_634     88\n",
      "feat_esm1b_332     88\n",
      "feat_esm1b_56      88\n",
      "feat_esm1b_1121    88\n",
      "feat_esm1b_645     88\n",
      "                   ..\n",
      "Info_epitope_id     0\n",
      "Info_AA             0\n",
      "Info_pos            0\n",
      "Info_protein_id     0\n",
      "Info_PepID          0\n",
      "Length: 1290, dtype: int64\n"
     ]
    }
   ],
   "source": [
    "#Check Dataframe for missing feature values\n",
    "missing_features = df.isnull().sum()\n",
    "missing_features_sorted = missing_features.sort_values(ascending=False)\n",
    "print(missing_features_sorted)"
   ]
  },
  {
   "cell_type": "code",
   "execution_count": 132,
   "id": "9f52c62d",
   "metadata": {},
   "outputs": [
    {
     "name": "stdout",
     "output_type": "stream",
     "text": [
      "26248    1216\n",
      "27918    1216\n",
      "13138    1216\n",
      "6423     1216\n",
      "36698    1215\n",
      "         ... \n",
      "16546       0\n",
      "16547       0\n",
      "16548       0\n",
      "16549       0\n",
      "49605       0\n",
      "Length: 49606, dtype: int64\n",
      "26248    1216\n",
      "27918    1216\n",
      "13138    1216\n",
      "6423     1216\n",
      "36698    1215\n",
      "         ... \n",
      "4316     1215\n",
      "33898    1215\n",
      "17405    1215\n",
      "27488    1215\n",
      "9513     1215\n",
      "Length: 88, dtype: int64\n"
     ]
    }
   ],
   "source": [
    "#checking for missing values in observations rows - EDA\n",
    "missing_observations = df.isnull().sum(axis=1)\n",
    "missing_observations_sorted = missing_observations.sort_values(ascending=False)\n",
    "print(missing_observations_sorted)\n",
    "\n",
    "missing_observations_500 = missing_observations_sorted[missing_observations_sorted>500]\n",
    "print(missing_observations_500)"
   ]
  },
  {
   "cell_type": "code",
   "execution_count": 133,
   "id": "9f0442a9",
   "metadata": {},
   "outputs": [],
   "source": [
    "#Drop observations with most missing values\n",
    "df.drop(index=missing_observations_500.index, inplace=True)"
   ]
  },
  {
   "cell_type": "code",
   "execution_count": 134,
   "id": "7662d35f",
   "metadata": {},
   "outputs": [
    {
     "name": "stdout",
     "output_type": "stream",
     "text": [
      "0        0\n",
      "33036    0\n",
      "33062    0\n",
      "33063    0\n",
      "33064    0\n",
      "        ..\n",
      "16529    0\n",
      "16530    0\n",
      "16531    0\n",
      "16532    0\n",
      "49605    0\n",
      "Length: 49518, dtype: int64\n",
      "Series([], dtype: int64)\n"
     ]
    }
   ],
   "source": [
    "#checking for missing values in observations rows - EDA\n",
    "missing_observations = df.isnull().sum(axis=1)\n",
    "missing_observations_sorted = missing_observations.sort_values(ascending=False)\n",
    "print(missing_observations_sorted)\n",
    "\n",
    "missing_observations_500 = missing_observations_sorted[missing_observations_sorted>500]\n",
    "print(missing_observations_500)"
   ]
  },
  {
   "cell_type": "code",
   "execution_count": 135,
   "id": "d848234c",
   "metadata": {},
   "outputs": [
    {
     "name": "stdout",
     "output_type": "stream",
     "text": [
      "205    1416\n",
      "154    1213\n",
      "153     855\n",
      "211     740\n",
      "44      684\n",
      "       ... \n",
      "198      21\n",
      "233      21\n",
      "227      21\n",
      "19       15\n",
      "253      14\n",
      "Name: Info_cluster, Length: 265, dtype: int64\n"
     ]
    }
   ],
   "source": [
    "#check how data is split by info_cluster - EDA\n",
    "class_distribution = df['Info_cluster'].value_counts()\n",
    "print (class_distribution)"
   ]
  },
  {
   "cell_type": "code",
   "execution_count": 136,
   "id": "1175fbb2",
   "metadata": {},
   "outputs": [
    {
     "name": "stdout",
     "output_type": "stream",
     "text": [
      "Class              0\n",
      "feat_esm1b_0       0\n",
      "feat_esm1b_1       0\n",
      "feat_esm1b_2       0\n",
      "feat_esm1b_3       0\n",
      "                  ..\n",
      "feat_esm1b_1276    0\n",
      "feat_esm1b_1277    0\n",
      "feat_esm1b_1278    0\n",
      "feat_esm1b_1279    0\n",
      "feat_esm1b_1280    0\n",
      "Length: 1281, dtype: int64\n",
      "<class 'pandas.core.frame.DataFrame'>\n",
      "Int64Index: 49518 entries, 0 to 49605\n",
      "Columns: 1281 entries, Class to feat_esm1b_1280\n",
      "dtypes: float64(1280), int64(1)\n",
      "memory usage: 484.3 MB\n",
      "None\n"
     ]
    }
   ],
   "source": [
    "#split into just class and feature variables for EDA - no need for info columns\n",
    "feature_variables = df.filter(regex='^(feat_|Class)')\n",
    "\n",
    "print (feature_variables.isna().sum())\n",
    "print (feature_variables.info())"
   ]
  },
  {
   "cell_type": "code",
   "execution_count": 137,
   "id": "14488eb7",
   "metadata": {},
   "outputs": [
    {
     "data": {
      "image/png": "[encoded data removed]",
      "text/plain": [
       "<Figure size 1000x500 with 1 Axes>"
      ]
     },
     "metadata": {},
     "output_type": "display_data"
    }
   ],
   "source": [
    "#plotting the maxima and minima values of each feature variable into line graph -EDA\n",
    "max_values = feature_variables.max(axis=0)\n",
    "min_values = feature_variables.min(axis=0)\n",
    "feature_indices = range(len(feature_variables.columns)) #creates a range of numeric values for the feature variables so it can be plotted.\n",
    "plt.figure(figsize=(10, 5))\n",
    "plt.plot(feature_indices, max_values, label='Maxima')\n",
    "plt.plot(feature_indices, min_values, label='Minima')\n",
    "plt.title('Maxima and Minima of Variables')\n",
    "plt.xlabel('Feature Index')\n",
    "plt.ylabel('Values')\n",
    "plt.legend()\n",
    "plt.show()"
   ]
  },
  {
   "cell_type": "code",
   "execution_count": 138,
   "id": "1afd3dea",
   "metadata": {},
   "outputs": [
    {
     "data": {
      "image/png": "[encoded data removed]",
      "text/plain": [
       "<Figure size 1000x500 with 1 Axes>"
      ]
     },
     "metadata": {},
     "output_type": "display_data"
    }
   ],
   "source": [
    "#plotting the minima against the maxima -EDA\n",
    "plt.figure(figsize= (10,5))\n",
    "plt.plot(min_values, max_values, marker ='o', color = 'blue')\n",
    "plt.title('Minima against Maxima values')\n",
    "plt.xlabel('Minima')\n",
    "plt.ylabel('Maxima')\n",
    "plt.show()"
   ]
  },
  {
   "cell_type": "code",
   "execution_count": 139,
   "id": "af9ee25e",
   "metadata": {},
   "outputs": [
    {
     "data": {
      "image/png": "[encoded data removed]",
      "text/plain": [
       "<Figure size 1000x500 with 1 Axes>"
      ]
     },
     "metadata": {},
     "output_type": "display_data"
    }
   ],
   "source": [
    "#plotting the ranges in a histogram- EDA\n",
    "ranges = max_values- min_values\n",
    "\n",
    "plt.figure(figsize=(10, 5))\n",
    "plt.hist(ranges,bins= 100, color='skyblue', edgecolor='black')\n",
    "plt.title('Histogram of Ranges (Max - Min) of Variables')\n",
    "plt.xlabel('Range')\n",
    "plt.ylabel('Frequency')\n",
    "plt.show()"
   ]
  },
  {
   "cell_type": "code",
   "execution_count": 140,
   "id": "32715bc9",
   "metadata": {},
   "outputs": [
    {
     "name": "stdout",
     "output_type": "stream",
     "text": [
      "<class 'pandas.core.frame.DataFrame'>\n",
      "Int64Index: 36390 entries, 0 to 49605\n",
      "Columns: 1281 entries, Class to feat_esm1b_1280\n",
      "dtypes: float64(1280), int64(1)\n",
      "memory usage: 355.9 MB\n",
      "None\n",
      "<class 'pandas.core.frame.DataFrame'>\n",
      "Int64Index: 13128 entries, 94 to 49601\n",
      "Columns: 1281 entries, Class to feat_esm1b_1280\n",
      "dtypes: float64(1280), int64(1)\n",
      "memory usage: 128.4 MB\n",
      "None\n"
     ]
    }
   ],
   "source": [
    "#splitting the data into training and testing using info_cluster\n",
    "split_data = GroupShuffleSplit(n_splits=1, random_state=42, test_size=0.25, train_size=0.75)\n",
    "train_set = None\n",
    "test_set = None\n",
    "for train_index, test_index in split_data.split(feature_variables, groups=df['Info_cluster']):\n",
    "    train_set = feature_variables.iloc[train_index]\n",
    "    test_set = feature_variables.iloc[test_index]\n",
    "\n",
    "print(train_set.info())\n",
    "print(test_set.info())"
   ]
  },
  {
   "cell_type": "code",
   "execution_count": 141,
   "id": "d649d4d4",
   "metadata": {},
   "outputs": [
    {
     "name": "stdout",
     "output_type": "stream",
     "text": [
      "Class              0\n",
      "feat_esm1b_641     0\n",
      "feat_esm1b_859     0\n",
      "feat_esm1b_858     0\n",
      "feat_esm1b_857     0\n",
      "                  ..\n",
      "feat_esm1b_426     0\n",
      "feat_esm1b_425     0\n",
      "feat_esm1b_424     0\n",
      "feat_esm1b_423     0\n",
      "feat_esm1b_1280    0\n",
      "Length: 1281, dtype: int64\n",
      "0        0\n",
      "33121    0\n",
      "33112    0\n",
      "33113    0\n",
      "33116    0\n",
      "        ..\n",
      "16551    0\n",
      "16550    0\n",
      "16549    0\n",
      "16548    0\n",
      "49605    0\n",
      "Length: 36390, dtype: int64\n"
     ]
    }
   ],
   "source": [
    "#double check missing values in train data \n",
    "missing_train_feature_values = train_set.isnull().sum()\n",
    "missing_train_feature_values_sorted = missing_train_feature_values.sort_values(ascending=False)\n",
    "print(missing_train_feature_values_sorted)\n",
    "\n",
    "missing_train_observation_values = train_set.isnull().sum(axis=1)\n",
    "missing_train_observation_values_sorted = missing_train_observation_values.sort_values(ascending = False)\n",
    "print (missing_train_observation_values_sorted)"
   ]
  },
  {
   "cell_type": "code",
   "execution_count": 142,
   "id": "167c1ed1",
   "metadata": {},
   "outputs": [
    {
     "name": "stdout",
     "output_type": "stream",
     "text": [
      "Class              0\n",
      "feat_esm1b_641     0\n",
      "feat_esm1b_859     0\n",
      "feat_esm1b_858     0\n",
      "feat_esm1b_857     0\n",
      "                  ..\n",
      "feat_esm1b_426     0\n",
      "feat_esm1b_425     0\n",
      "feat_esm1b_424     0\n",
      "feat_esm1b_423     0\n",
      "feat_esm1b_1280    0\n",
      "Length: 1281, dtype: int64\n",
      "94       0\n",
      "32966    0\n",
      "32936    0\n",
      "32939    0\n",
      "32940    0\n",
      "        ..\n",
      "16426    0\n",
      "16433    0\n",
      "16434    0\n",
      "16440    0\n",
      "49601    0\n",
      "Length: 13128, dtype: int64\n"
     ]
    }
   ],
   "source": [
    "#double check missing values in test data\n",
    "missing_test_feature_values = test_set.isnull().sum()\n",
    "missing_test_feature_values_sorted = missing_test_feature_values.sort_values(ascending=False)\n",
    "print(missing_test_feature_values_sorted)\n",
    "\n",
    "missing_test_observation_values = test_set.isnull().sum(axis=1)\n",
    "missing_test_observation_values_sorted = missing_test_observation_values.sort_values(ascending = False)\n",
    "print (missing_test_observation_values_sorted)"
   ]
  },
  {
   "cell_type": "code",
   "execution_count": 143,
   "id": "f32ce5af",
   "metadata": {},
   "outputs": [
    {
     "data": {
      "image/png": "[encoded data removed]",
      "text/plain": [
       "<Figure size 800x600 with 1 Axes>"
      ]
     },
     "metadata": {},
     "output_type": "display_data"
    }
   ],
   "source": [
    "#Use ABOD for a quick check of outliers\n",
    "\n",
    "from pyod.models.abod import ABOD\n",
    "train_features = train_set.filter(regex='^(feat_)')\n",
    "\n",
    "abod_model = ABOD(contamination=0.05, method='fast', n_neighbors=10)\n",
    "abod_model.fit(train_features)\n",
    "outlier_scores = abod_model.decision_scores_\n",
    "\n",
    "plt.figure(figsize=(8, 6))\n",
    "plt.scatter(np.arange(len(outlier_scores)), outlier_scores, c='blue', alpha=0.5)\n",
    "plt.xlabel('Index')\n",
    "plt.ylabel('Outlier Score')\n",
    "plt.title('Outlier Scores using ABOD')\n",
    "plt.grid(True)\n",
    "plt.show()\n"
   ]
  },
  {
   "cell_type": "code",
   "execution_count": 144,
   "id": "1b5af796",
   "metadata": {},
   "outputs": [
    {
     "data": {
      "text/html": [
       "<div>\n",
       "<style scoped>\n",
       "    .dataframe tbody tr th:only-of-type {\n",
       "        vertical-align: middle;\n",
       "    }\n",
       "\n",
       "    .dataframe tbody tr th {\n",
       "        vertical-align: top;\n",
       "    }\n",
       "\n",
       "    .dataframe thead th {\n",
       "        text-align: right;\n",
       "    }\n",
       "</style>\n",
       "<table border=\"1\" class=\"dataframe\">\n",
       "  <thead>\n",
       "    <tr style=\"text-align: right;\">\n",
       "      <th></th>\n",
       "      <th>feat_esm1b_0</th>\n",
       "      <th>feat_esm1b_1</th>\n",
       "      <th>feat_esm1b_2</th>\n",
       "      <th>feat_esm1b_3</th>\n",
       "      <th>feat_esm1b_4</th>\n",
       "      <th>feat_esm1b_5</th>\n",
       "      <th>feat_esm1b_6</th>\n",
       "      <th>feat_esm1b_7</th>\n",
       "      <th>feat_esm1b_8</th>\n",
       "      <th>feat_esm1b_9</th>\n",
       "      <th>...</th>\n",
       "      <th>feat_esm1b_1271</th>\n",
       "      <th>feat_esm1b_1272</th>\n",
       "      <th>feat_esm1b_1273</th>\n",
       "      <th>feat_esm1b_1274</th>\n",
       "      <th>feat_esm1b_1275</th>\n",
       "      <th>feat_esm1b_1276</th>\n",
       "      <th>feat_esm1b_1277</th>\n",
       "      <th>feat_esm1b_1278</th>\n",
       "      <th>feat_esm1b_1279</th>\n",
       "      <th>feat_esm1b_1280</th>\n",
       "    </tr>\n",
       "  </thead>\n",
       "  <tbody>\n",
       "    <tr>\n",
       "      <th>0</th>\n",
       "      <td>[407, 535, 606, 772, 783, 790, 931, 957, 1206,...</td>\n",
       "      <td>[155, 259, 386, 404, 532, 613, 649, 911, 1069,...</td>\n",
       "      <td>[167, 537, 1121, 1156, 1216, 1277, 1435, 1541,...</td>\n",
       "      <td>[407, 408, 537, 539, 916, 988, 1047, 1080, 137...</td>\n",
       "      <td>[619, 855, 975, 1000, 1069, 1259, 1552, 1673, ...</td>\n",
       "      <td>[7, 13, 258, 262, 508, 514, 516, 517, 532, 534...</td>\n",
       "      <td>[32, 44, 171, 182, 296, 297, 298, 299, 405, 40...</td>\n",
       "      <td>[299, 406, 607, 911, 920, 988, 1259, 1492, 160...</td>\n",
       "      <td>[47, 141, 190, 202, 204, 228, 232, 233, 241, 2...</td>\n",
       "      <td>[323, 534, 582, 1022, 1224, 1631, 1939, 2066, ...</td>\n",
       "      <td>...</td>\n",
       "      <td>[299, 408, 539, 643, 1102, 1221, 1472, 1639, 1...</td>\n",
       "      <td>[20, 37, 84, 911, 915, 1131, 1291, 1380, 1515,...</td>\n",
       "      <td>[28, 33, 40, 56, 64, 69, 76, 80, 169, 176, 180...</td>\n",
       "      <td>[1000, 1394, 1448, 1625, 1943, 2336, 2485, 281...</td>\n",
       "      <td>[298, 408, 539, 606, 643, 982, 1309, 1573, 157...</td>\n",
       "      <td>[45, 163, 294, 295, 320, 401, 402, 404, 436, 4...</td>\n",
       "      <td>[216, 296, 297, 298, 403, 405, 445, 446, 447, ...</td>\n",
       "      <td>[560, 760, 1053, 1216, 1297, 1380, 1436, 2312,...</td>\n",
       "      <td>[164, 258, 262, 408, 475, 538, 606, 643, 859, ...</td>\n",
       "      <td>[35, 36, 46, 60, 71, 82, 166, 177, 201, 232, 3...</td>\n",
       "    </tr>\n",
       "  </tbody>\n",
       "</table>\n",
       "<p>1 rows × 1280 columns</p>\n",
       "</div>"
      ],
      "text/plain": [
       "                                        feat_esm1b_0  \\\n",
       "0  [407, 535, 606, 772, 783, 790, 931, 957, 1206,...   \n",
       "\n",
       "                                        feat_esm1b_1  \\\n",
       "0  [155, 259, 386, 404, 532, 613, 649, 911, 1069,...   \n",
       "\n",
       "                                        feat_esm1b_2  \\\n",
       "0  [167, 537, 1121, 1156, 1216, 1277, 1435, 1541,...   \n",
       "\n",
       "                                        feat_esm1b_3  \\\n",
       "0  [407, 408, 537, 539, 916, 988, 1047, 1080, 137...   \n",
       "\n",
       "                                        feat_esm1b_4  \\\n",
       "0  [619, 855, 975, 1000, 1069, 1259, 1552, 1673, ...   \n",
       "\n",
       "                                        feat_esm1b_5  \\\n",
       "0  [7, 13, 258, 262, 508, 514, 516, 517, 532, 534...   \n",
       "\n",
       "                                        feat_esm1b_6  \\\n",
       "0  [32, 44, 171, 182, 296, 297, 298, 299, 405, 40...   \n",
       "\n",
       "                                        feat_esm1b_7  \\\n",
       "0  [299, 406, 607, 911, 920, 988, 1259, 1492, 160...   \n",
       "\n",
       "                                        feat_esm1b_8  \\\n",
       "0  [47, 141, 190, 202, 204, 228, 232, 233, 241, 2...   \n",
       "\n",
       "                                        feat_esm1b_9  ...  \\\n",
       "0  [323, 534, 582, 1022, 1224, 1631, 1939, 2066, ...  ...   \n",
       "\n",
       "                                     feat_esm1b_1271  \\\n",
       "0  [299, 408, 539, 643, 1102, 1221, 1472, 1639, 1...   \n",
       "\n",
       "                                     feat_esm1b_1272  \\\n",
       "0  [20, 37, 84, 911, 915, 1131, 1291, 1380, 1515,...   \n",
       "\n",
       "                                     feat_esm1b_1273  \\\n",
       "0  [28, 33, 40, 56, 64, 69, 76, 80, 169, 176, 180...   \n",
       "\n",
       "                                     feat_esm1b_1274  \\\n",
       "0  [1000, 1394, 1448, 1625, 1943, 2336, 2485, 281...   \n",
       "\n",
       "                                     feat_esm1b_1275  \\\n",
       "0  [298, 408, 539, 606, 643, 982, 1309, 1573, 157...   \n",
       "\n",
       "                                     feat_esm1b_1276  \\\n",
       "0  [45, 163, 294, 295, 320, 401, 402, 404, 436, 4...   \n",
       "\n",
       "                                     feat_esm1b_1277  \\\n",
       "0  [216, 296, 297, 298, 403, 405, 445, 446, 447, ...   \n",
       "\n",
       "                                     feat_esm1b_1278  \\\n",
       "0  [560, 760, 1053, 1216, 1297, 1380, 1436, 2312,...   \n",
       "\n",
       "                                     feat_esm1b_1279  \\\n",
       "0  [164, 258, 262, 408, 475, 538, 606, 643, 859, ...   \n",
       "\n",
       "                                     feat_esm1b_1280  \n",
       "0  [35, 36, 46, 60, 71, 82, 166, 177, 201, 232, 3...  \n",
       "\n",
       "[1 rows x 1280 columns]"
      ]
     },
     "execution_count": 144,
     "metadata": {},
     "output_type": "execute_result"
    }
   ],
   "source": [
    "#Use Z-score for another check and the distribution of outliers\n",
    "\n",
    "def outliers_z_score(df):\n",
    "    threshold = 3\n",
    "\n",
    "    mean = np.mean(df)\n",
    "    std = np.std(df)\n",
    "    z_scores = [(y - mean) / std for y in df]\n",
    "    return np.where(np.abs(z_scores) > threshold)\n",
    "\n",
    "my_list = ['int16', 'int32', 'int64', 'float16', 'float32', 'float64']\n",
    "num_columns = list(train_features.select_dtypes(include=my_list).columns)\n",
    "numerical_columns = train_features[num_columns]\n",
    "numerical_columns.head(3)\n",
    "\n",
    "outlier_list = numerical_columns.apply(lambda x: outliers_z_score(x))\n",
    "outlier_list"
   ]
  },
  {
   "cell_type": "code",
   "execution_count": 145,
   "id": "81bc75cd",
   "metadata": {},
   "outputs": [
    {
     "name": "stdout",
     "output_type": "stream",
     "text": [
      "   feat_esm1b_0  feat_esm1b_1  feat_esm1b_2  feat_esm1b_3  feat_esm1b_4  \\\n",
      "0      0.294185     -0.010953      0.043579     -0.072766      0.235567   \n",
      "1      0.260795      0.016828     -0.012012     -0.066855      0.325146   \n",
      "2      0.184051      0.305131      0.108189      0.129977      0.452808   \n",
      "3      0.314233      0.128062      0.083666      0.216604      0.312914   \n",
      "4      0.096633      0.163431     -0.031337      0.308982      0.290276   \n",
      "\n",
      "   feat_esm1b_5  feat_esm1b_6  feat_esm1b_7  feat_esm1b_8  feat_esm1b_9  ...  \\\n",
      "0     -0.055041     -0.495426     -0.154259     -0.416052      0.126980  ...   \n",
      "1     -0.255945     -0.597614     -0.055613     -0.405133      0.070091  ...   \n",
      "2     -0.308754     -0.500337     -0.115194     -0.085235      0.127767  ...   \n",
      "3     -0.370623     -0.347873      0.172393     -0.473537      0.178783  ...   \n",
      "4     -0.513453     -0.365755     -0.188772     -0.278407     -0.094587  ...   \n",
      "\n",
      "   feat_esm1b_1271  feat_esm1b_1272  feat_esm1b_1273  feat_esm1b_1274  \\\n",
      "0        -0.177248        -0.275432         0.175780        -2.618115   \n",
      "1        -0.089673        -0.258615         0.063662        -2.660741   \n",
      "2        -0.037816        -0.205189         0.220458        -2.610207   \n",
      "3        -0.249216        -0.211748        -0.130716        -2.598186   \n",
      "4        -0.039318        -0.250912        -0.093870        -2.414023   \n",
      "\n",
      "   feat_esm1b_1275  feat_esm1b_1276  feat_esm1b_1277  feat_esm1b_1278  \\\n",
      "0        -0.306478         0.248409        -0.144645        -0.163276   \n",
      "1        -0.227916         0.233011        -0.143840        -0.119282   \n",
      "2        -0.156326         0.231606         0.251916         0.077030   \n",
      "3        -0.130838        -0.026848         0.167203        -0.394126   \n",
      "4        -0.253500         0.118345        -0.160718        -0.076750   \n",
      "\n",
      "   feat_esm1b_1279  feat_esm1b_1280  \n",
      "0         0.101016         0.571763  \n",
      "1         0.146848         0.507656  \n",
      "2         0.326192         0.071661  \n",
      "3         0.222274         0.376358  \n",
      "4         0.448067         0.326883  \n",
      "\n",
      "[5 rows x 1280 columns]\n"
     ]
    }
   ],
   "source": [
    "#look at data before treating outliers\n",
    "print(train_features.head())"
   ]
  },
  {
   "cell_type": "code",
   "execution_count": 146,
   "id": "43874aab",
   "metadata": {},
   "outputs": [
    {
     "name": "stderr",
     "output_type": "stream",
     "text": [
      "C:\\Users\\nadla\\AppData\\Local\\Temp\\ipykernel_21364\\383271773.py:17: SettingWithCopyWarning: \n",
      "A value is trying to be set on a copy of a slice from a DataFrame.\n",
      "Try using .loc[row_indexer,col_indexer] = value instead\n",
      "\n",
      "See the caveats in the documentation: https://pandas.pydata.org/pandas-docs/stable/user_guide/indexing.html#returning-a-view-versus-a-copy\n",
      "  train_set.loc[:, feature] = train_set[feature].clip(lower=lower_bounds[feature],upper=upper_bounds[feature])\n"
     ]
    },
    {
     "name": "stdout",
     "output_type": "stream",
     "text": [
      "   Class  feat_esm1b_0  feat_esm1b_1  feat_esm1b_2  feat_esm1b_3  \\\n",
      "0      1      0.294185     -0.010953      0.043579     -0.072766   \n",
      "1      1      0.260795      0.016828     -0.012012     -0.066855   \n",
      "2      1      0.184051      0.305131      0.108189      0.129977   \n",
      "3      1      0.314233      0.128062      0.083666      0.216604   \n",
      "4      1      0.096633      0.163431     -0.031337      0.308982   \n",
      "\n",
      "   feat_esm1b_4  feat_esm1b_5  feat_esm1b_6  feat_esm1b_7  feat_esm1b_8  ...  \\\n",
      "0      0.235567     -0.055041     -0.479394     -0.154259     -0.416052  ...   \n",
      "1      0.321487     -0.255945     -0.479394     -0.055613     -0.405133  ...   \n",
      "2      0.321487     -0.308754     -0.479394     -0.115194     -0.085235  ...   \n",
      "3      0.312914     -0.370623     -0.347873      0.172393     -0.473537  ...   \n",
      "4      0.290276     -0.448781     -0.365755     -0.188772     -0.278407  ...   \n",
      "\n",
      "   feat_esm1b_1271  feat_esm1b_1272  feat_esm1b_1273  feat_esm1b_1274  \\\n",
      "0        -0.177248        -0.275432         0.175780        -2.187208   \n",
      "1        -0.089673        -0.258615         0.063662        -2.187208   \n",
      "2        -0.037816        -0.205189         0.220458        -2.187208   \n",
      "3        -0.249216        -0.211748        -0.130716        -2.187208   \n",
      "4        -0.039318        -0.250912        -0.093870        -2.187208   \n",
      "\n",
      "   feat_esm1b_1275  feat_esm1b_1276  feat_esm1b_1277  feat_esm1b_1278  \\\n",
      "0        -0.306478         0.248409        -0.144645        -0.163276   \n",
      "1        -0.227916         0.233011        -0.143840        -0.119282   \n",
      "2        -0.156326         0.231606         0.251916         0.077030   \n",
      "3        -0.130838        -0.026848         0.167203        -0.394126   \n",
      "4        -0.253500         0.118345        -0.160718        -0.076750   \n",
      "\n",
      "   feat_esm1b_1279  feat_esm1b_1280  \n",
      "0         0.101016         0.404582  \n",
      "1         0.146848         0.404582  \n",
      "2         0.326192         0.071661  \n",
      "3         0.222274         0.376358  \n",
      "4         0.448067         0.326883  \n",
      "\n",
      "[5 rows x 1281 columns]\n"
     ]
    }
   ],
   "source": [
    "# Perform quantile capping on outliers\n",
    "lower_quantile = 0.05\n",
    "upper_quantile = 0.95\n",
    "\n",
    "lower_bounds = {}\n",
    "upper_bounds = {}\n",
    "\n",
    "for feature in train_set.columns:\n",
    "    if feature != \"Class\":\n",
    "        lower_bound = train_set[feature].quantile(lower_quantile)\n",
    "        upper_bound = train_set[feature].quantile(upper_quantile)\n",
    "        lower_bounds[feature] = lower_bound\n",
    "        upper_bounds[feature] = upper_bound\n",
    "\n",
    "for feature in train_set.columns:\n",
    "    if feature != \"Class\":\n",
    "        train_set.loc[:, feature] = train_set[feature].clip(lower=lower_bounds[feature],upper=upper_bounds[feature])\n",
    "\n",
    "#See changes made\n",
    "print(train_set.head())\n"
   ]
  },
  {
   "cell_type": "markdown",
   "id": "1dc0a1e0",
   "metadata": {},
   "source": [
    "## Feature Reduction\n",
    "\n",
    "Apply techniques to select the most relevant features and reducing the data for modelling"
   ]
  },
  {
   "cell_type": "code",
   "execution_count": 147,
   "id": "a657d8a8",
   "metadata": {},
   "outputs": [],
   "source": [
    "#Scale data for feature selection and reduction\n",
    "from sklearn.preprocessing import MinMaxScaler\n",
    "scaler = MinMaxScaler()\n",
    "\n",
    "train_scaled = scaler.fit_transform(train_set)\n",
    "test_scaled = scaler.fit_transform(test_set)"
   ]
  },
  {
   "cell_type": "code",
   "execution_count": 148,
   "id": "c15063d1",
   "metadata": {},
   "outputs": [
    {
     "data": {
      "image/png": "[encoded data removed]",
      "text/plain": [
       "<Figure size 1000x600 with 1 Axes>"
      ]
     },
     "metadata": {},
     "output_type": "display_data"
    }
   ],
   "source": [
    "#Use information gain to select features\n",
    "from sklearn.feature_selection import mutual_info_classif\n",
    "%matplotlib inline\n",
    "\n",
    "target_train = train_set['Class']\n",
    "information_gain = mutual_info_classif(train_features, target_train)\n",
    "\n",
    "# Plot Information Gain for each feature\n",
    "plt.figure(figsize=(10, 6))\n",
    "plt.barh(train_features.columns, information_gain, color='skyblue')\n",
    "plt.xlabel('Information Gain')\n",
    "plt.ylabel('Feature Variables')\n",
    "plt.title('Information Gain for Each Feature Variable')\n",
    "plt.grid(axis='x')\n",
    "plt.show()"
   ]
  },
  {
   "cell_type": "code",
   "execution_count": 149,
   "id": "b6e96498",
   "metadata": {},
   "outputs": [
    {
     "name": "stdout",
     "output_type": "stream",
     "text": [
      "   feat_esm1b_0  feat_esm1b_6  feat_esm1b_8  feat_esm1b_12  feat_esm1b_13  \\\n",
      "0      0.294185     -0.479394     -0.416052       0.024260       0.194165   \n",
      "1      0.260795     -0.479394     -0.405133      -0.048396       0.284658   \n",
      "2      0.184051     -0.479394     -0.085235      -0.077373       0.310214   \n",
      "3      0.314233     -0.347873     -0.473537      -0.188469       0.105566   \n",
      "4      0.096633     -0.365755     -0.278407       0.006994       0.386066   \n",
      "\n",
      "   feat_esm1b_15  feat_esm1b_16  feat_esm1b_18  feat_esm1b_20  feat_esm1b_21  \\\n",
      "0      -0.273617       0.473750       0.355447       0.136090       0.299266   \n",
      "1      -0.273617       0.639695       0.355447       0.101894       0.307027   \n",
      "2      -0.142781       0.591466       0.135699       0.517927       0.186231   \n",
      "3      -0.119486       0.801471       0.089419       0.172156       0.173143   \n",
      "4       0.051050       0.445352       0.334826       0.056115       0.016136   \n",
      "\n",
      "   ...  feat_esm1b_1238  feat_esm1b_1240  feat_esm1b_1248  feat_esm1b_1253  \\\n",
      "0  ...         0.541817        -0.207813        -0.433870        -0.276240   \n",
      "1  ...         0.545858        -0.135889        -0.326419        -0.387650   \n",
      "2  ...         0.673661        -0.280728        -0.025635        -0.324915   \n",
      "3  ...         0.480358        -0.322913        -0.140686        -0.267888   \n",
      "4  ...         0.482619         0.004959        -0.158157        -0.387650   \n",
      "\n",
      "   feat_esm1b_1255  feat_esm1b_1269  feat_esm1b_1270  feat_esm1b_1273  \\\n",
      "0         0.080680        -0.414187        -0.039065         0.175780   \n",
      "1         0.156190        -0.430331        -0.080719         0.063662   \n",
      "2         0.038656        -0.424101        -0.176655         0.220458   \n",
      "3         0.025048        -0.185524         0.089637        -0.130716   \n",
      "4         0.300247        -0.276812        -0.176655        -0.093870   \n",
      "\n",
      "   feat_esm1b_1276  Class  \n",
      "0         0.248409      1  \n",
      "1         0.233011      1  \n",
      "2         0.231606      1  \n",
      "3        -0.026848      1  \n",
      "4         0.118345      1  \n",
      "\n",
      "[5 rows x 370 columns]\n",
      "    feat_esm1b_0  feat_esm1b_6  feat_esm1b_8  feat_esm1b_12  feat_esm1b_13  \\\n",
      "94      0.184068     -0.238869     -0.550252      -0.076826      -0.061097   \n",
      "95     -0.191894     -0.047641     -0.066238       0.028988       0.512601   \n",
      "96     -0.166764     -0.263866      0.068253       0.179539      -0.510583   \n",
      "97     -0.507498     -0.043283      0.054630      -0.148141       0.372488   \n",
      "98     -0.159244     -0.193231     -0.230636       0.619733       0.249933   \n",
      "\n",
      "    feat_esm1b_15  feat_esm1b_16  feat_esm1b_18  feat_esm1b_20  feat_esm1b_21  \\\n",
      "94      -0.517495       0.080938       0.104060       0.123593      -0.291341   \n",
      "95      -0.171995       0.245024      -0.136983       0.117761      -0.218847   \n",
      "96      -0.231159      -0.390554      -0.153471       0.038914       0.150428   \n",
      "97      -0.112110       0.227599       0.051905       0.254148       0.268870   \n",
      "98      -0.201964      -0.322307      -0.154496       0.156846       0.251999   \n",
      "\n",
      "    ...  feat_esm1b_1238  feat_esm1b_1240  feat_esm1b_1248  feat_esm1b_1253  \\\n",
      "94  ...         0.265271         0.184818         0.190691         0.096467   \n",
      "95  ...         0.421438         0.321599         0.123166        -0.315245   \n",
      "96  ...         0.577387         0.351225        -0.411955        -0.204950   \n",
      "97  ...         0.766120         0.280295         0.290065        -0.760152   \n",
      "98  ...         0.371567         0.172749        -0.047850        -0.552629   \n",
      "\n",
      "    feat_esm1b_1255  feat_esm1b_1269  feat_esm1b_1270  feat_esm1b_1273  \\\n",
      "94         0.384906         0.032858         0.650188         0.361474   \n",
      "95         0.671602         0.232876         0.287191        -0.156263   \n",
      "96         0.253890        -0.167821         0.389677         0.489746   \n",
      "97         0.533721         0.366168         0.272169        -0.342954   \n",
      "98         0.042562         0.363268         0.218285        -0.225437   \n",
      "\n",
      "    feat_esm1b_1276  Class  \n",
      "94        -0.078953      1  \n",
      "95        -0.008678      1  \n",
      "96        -0.050215      1  \n",
      "97        -0.193868      1  \n",
      "98        -0.179765      1  \n",
      "\n",
      "[5 rows x 370 columns]\n"
     ]
    }
   ],
   "source": [
    "#Select the top features to proceed with and update data sets\n",
    "top_features = train_features.columns[information_gain > 0.002]\n",
    "selected_columns = list(top_features) + ['Class']\n",
    "train_set_selected = train_set[selected_columns]\n",
    "test_set_selected = test_set[selected_columns]\n",
    "\n",
    "print(train_set_selected.head())\n",
    "print(test_set_selected.head())\n"
   ]
  },
  {
   "cell_type": "markdown",
   "id": "4e9642f7",
   "metadata": {},
   "source": [
    "## Preliminary Modelling\n",
    "\n",
    "Modelling different classification techniques and using the balanced accuracy for comparison"
   ]
  },
  {
   "cell_type": "code",
   "execution_count": 150,
   "id": "c244a44f",
   "metadata": {},
   "outputs": [
    {
     "name": "stdout",
     "output_type": "stream",
     "text": [
      "Classification Report:\n",
      "              precision    recall  f1-score   support\n",
      "\n",
      "          -1       0.98      1.00      0.99     12891\n",
      "           1       0.67      0.02      0.03       237\n",
      "\n",
      "    accuracy                           0.98     13128\n",
      "   macro avg       0.82      0.51      0.51     13128\n",
      "weighted avg       0.98      0.98      0.97     13128\n",
      "\n",
      "Balanced Accuracy: 0.5083612450645087\n"
     ]
    }
   ],
   "source": [
    "#Modelling RandomForest Classifier \n",
    "\n",
    "from sklearn.ensemble import RandomForestClassifier\n",
    "from sklearn.metrics import classification_report\n",
    "from sklearn.metrics import balanced_accuracy_score\n",
    "\n",
    "x_train = train_set_selected.filter(regex='^(feat_)')\n",
    "y_train = train_set_selected['Class']\n",
    "\n",
    "x_test = test_set_selected.filter(regex='^(feat_)')\n",
    "y_test = test_set_selected['Class']\n",
    "\n",
    "Random_forest = RandomForestClassifier(n_estimators=100, random_state=42)\n",
    "Random_forest.fit(x_train, y_train)\n",
    "\n",
    "y_pred = Random_forest.predict(x_test)\n",
    "\n",
    "class_report = classification_report(y_test, y_pred)\n",
    "print(\"Classification Report:\")\n",
    "print(class_report)\n",
    "\n",
    "# Calculate balanced accuracy\n",
    "balanced_acc = balanced_accuracy_score(y_test, y_pred)\n",
    "print(\"Balanced Accuracy:\", balanced_acc)"
   ]
  },
  {
   "cell_type": "code",
   "execution_count": 151,
   "id": "896d76b3",
   "metadata": {},
   "outputs": [
    {
     "name": "stdout",
     "output_type": "stream",
     "text": [
      "Classification Report:\n",
      "              precision    recall  f1-score   support\n",
      "\n",
      "          -1       0.99      0.98      0.98     12891\n",
      "           1       0.32      0.59      0.41       237\n",
      "\n",
      "    accuracy                           0.97     13128\n",
      "   macro avg       0.65      0.79      0.70     13128\n",
      "weighted avg       0.98      0.97      0.97     13128\n",
      "\n",
      "Balanced Accuracy: 0.7857159690452273\n"
     ]
    }
   ],
   "source": [
    "# modelling logistic regression \n",
    "\n",
    "from sklearn.linear_model import LogisticRegression\n",
    "\n",
    "logistic_regression = LogisticRegression(max_iter=1000,random_state=42)\n",
    "logistic_regression.fit(x_train, y_train)\n",
    "\n",
    "y_pred = logistic_regression.predict(x_test)\n",
    "\n",
    "class_report = classification_report(y_test, y_pred)\n",
    "print(\"Classification Report:\")\n",
    "print(class_report)\n",
    "\n",
    "# Calculate balanced accuracy\n",
    "balanced_acc = balanced_accuracy_score(y_test, y_pred)\n",
    "print(\"Balanced Accuracy:\", balanced_acc)"
   ]
  },
  {
   "cell_type": "code",
   "execution_count": 152,
   "id": "68834406",
   "metadata": {},
   "outputs": [
    {
     "name": "stdout",
     "output_type": "stream",
     "text": [
      "Classification Report:\n",
      "              precision    recall  f1-score   support\n",
      "\n",
      "          -1       0.98      1.00      0.99     12891\n",
      "           1       0.45      0.17      0.25       237\n",
      "\n",
      "    accuracy                           0.98     13128\n",
      "   macro avg       0.72      0.58      0.62     13128\n",
      "weighted avg       0.98      0.98      0.98     13128\n",
      "\n",
      "Balanced Accuracy: 0.5825264216325982\n"
     ]
    }
   ],
   "source": [
    "# Modellin decision tree classifier\n",
    "\n",
    "from sklearn.tree import DecisionTreeClassifier\n",
    "\n",
    "decision_tree = DecisionTreeClassifier(max_depth=5, min_samples_split=10,random_state=42)\n",
    "decision_tree.fit(x_train, y_train)\n",
    "y_pred = decision_tree.predict(x_test)\n",
    "\n",
    "class_report = classification_report(y_test, y_pred)\n",
    "print(\"Classification Report:\")\n",
    "print(class_report)\n",
    "\n",
    "# Calculate balanced accuracy\n",
    "balanced_acc = balanced_accuracy_score(y_test, y_pred)\n",
    "print(\"Balanced Accuracy:\", balanced_acc)"
   ]
  },
  {
   "cell_type": "code",
   "execution_count": 153,
   "id": "7f5bf5b8",
   "metadata": {},
   "outputs": [
    {
     "name": "stdout",
     "output_type": "stream",
     "text": [
      "<class 'pandas.core.frame.DataFrame'>\n",
      "Int64Index: 36390 entries, 0 to 49605\n",
      "Columns: 1290 entries, Info_PepID to feat_esm1b_1280\n",
      "dtypes: float64(1280), int64(4), object(6)\n",
      "memory usage: 358.4+ MB\n"
     ]
    }
   ],
   "source": [
    "#get info data for that relates to train data\n",
    "test_index_values = test_set.index\n",
    "df_train = df[~df.index.isin(test_index_values)]\n",
    "\n",
    "df_train.info()"
   ]
  },
  {
   "cell_type": "code",
   "execution_count": 162,
   "id": "e7bbf4a0",
   "metadata": {},
   "outputs": [
    {
     "name": "stdout",
     "output_type": "stream",
     "text": [
      "<class 'pandas.core.frame.DataFrame'>\n",
      "Int64Index: 27238 entries, 0 to 49605\n",
      "Columns: 370 entries, feat_esm1b_0 to Class\n",
      "dtypes: float64(369), int64(1)\n",
      "memory usage: 77.1 MB\n",
      "None\n",
      "<class 'pandas.core.frame.DataFrame'>\n",
      "Int64Index: 9152 entries, 15 to 49603\n",
      "Columns: 370 entries, feat_esm1b_0 to Class\n",
      "dtypes: float64(369), int64(1)\n",
      "memory usage: 25.9 MB\n",
      "None\n"
     ]
    }
   ],
   "source": [
    "#futher split data for validation \n",
    "\n",
    "split_data = GroupShuffleSplit(n_splits=1, random_state=42, test_size=0.25, train_size=0.75)\n",
    "train_val_set = None\n",
    "test_val_set = None\n",
    "for train_index, test_index in split_data.split(train_set_selected, groups=df_train['Info_cluster']):\n",
    "    train_val_set = train_set_selected.iloc[train_index]\n",
    "    test_val_set = train_set_selected.iloc[test_index]\n",
    "\n",
    "print(train_val_set.info())\n",
    "print(test_val_set.info())"
   ]
  },
  {
   "cell_type": "code",
   "execution_count": 163,
   "id": "2436772a",
   "metadata": {},
   "outputs": [
    {
     "name": "stdout",
     "output_type": "stream",
     "text": [
      "Classification Report:\n",
      "              precision    recall  f1-score   support\n",
      "\n",
      "          -1       0.98      1.00      0.99      8953\n",
      "           1       0.19      0.02      0.04       199\n",
      "\n",
      "    accuracy                           0.98      9152\n",
      "   macro avg       0.58      0.51      0.51      9152\n",
      "weighted avg       0.96      0.98      0.97      9152\n",
      "\n",
      "Balanced Accuracy: 0.5091008488213434\n"
     ]
    }
   ],
   "source": [
    "# validation on logistic regression \n",
    "x_val_train = train_val_set.filter(regex='^(feat_)')\n",
    "y_val_train = train_val_set['Class']\n",
    "\n",
    "x_val_test = test_val_set.filter(regex='^(feat_)')\n",
    "y_val_test = test_val_set['Class']\n",
    "\n",
    "logistic_regression = LogisticRegression(max_iter=1000,random_state=42)\n",
    "logistic_regression.fit(x_val_train, y_val_train)\n",
    "\n",
    "y_pred = logistic_regression.predict(x_val_test)\n",
    "\n",
    "class_report = classification_report(y_val_test, y_pred)\n",
    "print(\"Classification Report:\")\n",
    "print(class_report)\n",
    "\n",
    "# Calculate balanced accuracy\n",
    "balanced_acc = balanced_accuracy_score(y_val_test, y_pred)\n",
    "print(\"Balanced Accuracy:\", balanced_acc)"
   ]
  },
  {
   "cell_type": "code",
   "execution_count": 164,
   "id": "a27f7b8f",
   "metadata": {},
   "outputs": [
    {
     "name": "stdout",
     "output_type": "stream",
     "text": [
      "Classification Report:\n",
      "              precision    recall  f1-score   support\n",
      "\n",
      "          -1       0.98      1.00      0.99      8953\n",
      "           1       0.10      0.02      0.03       199\n",
      "\n",
      "    accuracy                           0.98      9152\n",
      "   macro avg       0.54      0.51      0.51      9152\n",
      "weighted avg       0.96      0.98      0.97      9152\n",
      "\n",
      "Balanced Accuracy: 0.5059739667846661\n"
     ]
    }
   ],
   "source": [
    "# validation on decision tree\n",
    "decision_tree = DecisionTreeClassifier(max_depth=5, min_samples_split=10,random_state=42)\n",
    "\n",
    "decision_tree.fit(x_val_train, y_val_train)\n",
    "\n",
    "y_pred = decision_tree.predict(x_val_test)\n",
    "\n",
    "class_report = classification_report(y_val_test, y_pred)\n",
    "print(\"Classification Report:\")\n",
    "print(class_report)\n",
    "\n",
    "balanced_acc = balanced_accuracy_score(y_val_test, y_pred)\n",
    "print(\"Balanced Accuracy:\", balanced_acc)"
   ]
  },
  {
   "cell_type": "markdown",
   "id": "2f2f8c62",
   "metadata": {},
   "source": [
    "## Addressing Class imbalance\n",
    "\n",
    "Adressing the class imbalance using under sampling, over sampling and a cost-sensitive approach, seeing the effects this has on the balanced accuracy of Logistic regression classifier"
   ]
  },
  {
   "cell_type": "code",
   "execution_count": 165,
   "id": "1b3ac4fb",
   "metadata": {},
   "outputs": [
    {
     "name": "stdout",
     "output_type": "stream",
     "text": [
      "Training set class distribution:\n",
      " -1    0.984309\n",
      " 1    0.015691\n",
      "Name: Class, dtype: float64\n",
      "\n",
      "Test set class distribution:\n",
      " -1    0.981947\n",
      " 1    0.018053\n",
      "Name: Class, dtype: float64\n"
     ]
    }
   ],
   "source": [
    "# Calculate class distributions\n",
    "train_class_distribution = train_set_selected['Class'].value_counts(normalize=True)\n",
    "test_class_distribution = test_set_selected['Class'].value_counts(normalize=True)\n",
    "\n",
    "# Print class distributions\n",
    "print(\"Training set class distribution:\\n\", train_class_distribution)\n",
    "print(\"\\nTest set class distribution:\\n\", test_class_distribution)"
   ]
  },
  {
   "cell_type": "code",
   "execution_count": 167,
   "id": "06704cce",
   "metadata": {},
   "outputs": [
    {
     "name": "stdout",
     "output_type": "stream",
     "text": [
      "Class distribution in y_train_rus:\n",
      "-1    0.5\n",
      " 1    0.5\n",
      "Name: Class, dtype: float64\n",
      "\n",
      "Class distribution in y_test_rus:\n",
      "-1    0.5\n",
      " 1    0.5\n",
      "Name: Class, dtype: float64\n"
     ]
    }
   ],
   "source": [
    "#Perform random under sampling as see effects on the distribution\n",
    "\n",
    "from imblearn.under_sampling import RandomUnderSampler\n",
    "\n",
    "rus = RandomUnderSampler(random_state=42)\n",
    "X_train_rus, y_train_rus = rus.fit_resample(x_train, y_train)\n",
    "X_test_rus, y_test_rus = rus.fit_resample(x_test, y_test)\n",
    "\n",
    "\n",
    "print(\"Class distribution in y_train_rus:\")\n",
    "print(y_train_rus.value_counts(normalize=True))\n",
    "\n",
    "# Check the class distribution in the resampled test data\n",
    "print(\"\\nClass distribution in y_test_rus:\")\n",
    "print(y_test_rus.value_counts(normalize=True))\n",
    "\n"
   ]
  },
  {
   "cell_type": "code",
   "execution_count": 168,
   "id": "0b742260",
   "metadata": {},
   "outputs": [
    {
     "name": "stdout",
     "output_type": "stream",
     "text": [
      "Classification Report:\n",
      "              precision    recall  f1-score   support\n",
      "\n",
      "          -1       1.00      0.87      0.93     12891\n",
      "           1       0.11      0.90      0.20       237\n",
      "\n",
      "    accuracy                           0.87     13128\n",
      "   macro avg       0.55      0.88      0.56     13128\n",
      "weighted avg       0.98      0.87      0.91     13128\n",
      "\n",
      "Matthews Correlation Coefficient (MCC): 0.28826561450803084\n"
     ]
    }
   ],
   "source": [
    "# modelling after random under sampling\n",
    "\n",
    "from sklearn.metrics import matthews_corrcoef\n",
    "#using undersampled classes\n",
    "logistic_regression = LogisticRegression(max_iter=1000,random_state=42)\n",
    "logistic_regression.fit(X_train_rus, y_train_rus)\n",
    "\n",
    "y_pred = logistic_regression.predict(x_test)\n",
    "\n",
    "class_report = classification_report(y_test, y_pred)\n",
    "print(\"Classification Report:\")\n",
    "print(class_report)\n",
    "\n",
    "mcc = matthews_corrcoef(y_test, y_pred)\n",
    "print(\"Matthews Correlation Coefficient (MCC):\", mcc)"
   ]
  },
  {
   "cell_type": "code",
   "execution_count": 169,
   "id": "07115876",
   "metadata": {},
   "outputs": [
    {
     "name": "stdout",
     "output_type": "stream",
     "text": [
      "Class distribution in y_train_ros:\n",
      " 1    0.5\n",
      "-1    0.5\n",
      "Name: Class, dtype: float64\n",
      "\n",
      "Class distribution in y_test_ros:\n",
      " 1    0.5\n",
      "-1    0.5\n",
      "Name: Class, dtype: float64\n"
     ]
    }
   ],
   "source": [
    "# perform random over sampling \n",
    "\n",
    "from imblearn.over_sampling import RandomOverSampler\n",
    "\n",
    "ros = RandomOverSampler(random_state=42)\n",
    "X_train_ros, y_train_ros = ros.fit_resample(x_train, y_train)\n",
    "X_test_ros, y_test_ros = ros.fit_resample(x_test, y_test)\n",
    "\n",
    "print(\"Class distribution in y_train_ros:\")\n",
    "print(y_train_ros.value_counts(normalize=True))\n",
    "\n",
    "# Check the class distribution in the resampled test data\n",
    "print(\"\\nClass distribution in y_test_ros:\")\n",
    "print(y_test_ros.value_counts(normalize=True))"
   ]
  },
  {
   "cell_type": "code",
   "execution_count": 170,
   "id": "317d7e90",
   "metadata": {},
   "outputs": [
    {
     "name": "stdout",
     "output_type": "stream",
     "text": [
      "Classification Report:\n",
      "              precision    recall  f1-score   support\n",
      "\n",
      "          -1       1.00      0.90      0.95     12891\n",
      "           1       0.13      0.79      0.23       237\n",
      "\n",
      "    accuracy                           0.90     13128\n",
      "   macro avg       0.56      0.85      0.59     13128\n",
      "weighted avg       0.98      0.90      0.93     13128\n",
      "\n",
      "Matthews Correlation Coefficient (MCC): 0.29920574955994794\n"
     ]
    }
   ],
   "source": [
    "# modelling after using over sampling\n",
    "\n",
    "logistic_regression = LogisticRegression(max_iter=1000,random_state=42)\n",
    "logistic_regression.fit(X_train_ros, y_train_ros)\n",
    "\n",
    "y_pred = logistic_regression.predict(x_test)\n",
    "\n",
    "class_report = classification_report(y_test, y_pred)\n",
    "print(\"Classification Report:\")\n",
    "print(class_report)\n",
    "\n",
    "mcc = matthews_corrcoef(y_test, y_pred)\n",
    "print(\"Matthews Correlation Coefficient (MCC):\", mcc)"
   ]
  },
  {
   "cell_type": "code",
   "execution_count": 172,
   "id": "15e60638",
   "metadata": {},
   "outputs": [
    {
     "name": "stdout",
     "output_type": "stream",
     "text": [
      "Classification Report:\n",
      "              precision    recall  f1-score   support\n",
      "\n",
      "          -1       1.00      0.90      0.95     12891\n",
      "           1       0.13      0.79      0.22       237\n",
      "\n",
      "    accuracy                           0.90     13128\n",
      "   macro avg       0.56      0.85      0.58     13128\n",
      "weighted avg       0.98      0.90      0.93     13128\n",
      "\n",
      "Matthews Correlation Coefficient (MCC): 0.2954834103881749\n"
     ]
    }
   ],
   "source": [
    "#balancing using weights - cost sensitive approach\n",
    "\n",
    "logistic_regression = LogisticRegression(class_weight='balanced', max_iter=1000, random_state=42)\n",
    "logistic_regression.fit(x_train, y_train)\n",
    "\n",
    "y_pred = logistic_regression.predict(x_test)\n",
    "class_report = classification_report(y_test, y_pred)\n",
    "print(\"Classification Report:\")\n",
    "print(class_report)\n",
    "\n",
    "mcc = matthews_corrcoef(y_test, y_pred)\n",
    "print(\"Matthews Correlation Coefficient (MCC):\", mcc)"
   ]
  },
  {
   "cell_type": "markdown",
   "id": "390d82ea",
   "metadata": {},
   "source": [
    "## Hyperparameter tuning\n",
    "\n",
    "Finding the best hyperparameters for Logistic Regression"
   ]
  },
  {
   "cell_type": "code",
   "execution_count": 173,
   "id": "372b4e8a",
   "metadata": {},
   "outputs": [
    {
     "name": "stdout",
     "output_type": "stream",
     "text": [
      "Best hyperparameters: {'C': 10.0, 'penalty': 'l2', 'solver': 'liblinear'}\n",
      "Balanced Accuracy: 0.792657324460496\n"
     ]
    }
   ],
   "source": [
    "from sklearn.model_selection import GridSearchCV, GroupShuffleSplit\n",
    "from sklearn.linear_model import LogisticRegression\n",
    "\n",
    "# Define the parameter grid\n",
    "\n",
    "param_grid = {\n",
    "    'penalty': ['l2'],  \n",
    "    'solver': ['liblinear', 'lbfgs'],  # Try different solvers\n",
    "    'C': [0.01,0.01,1.0, 10.0],  # Regularization strength\n",
    "}\n",
    "\n",
    "# Define the cross-validation strategy with GroupShuffleSplit\n",
    "split_data = GroupShuffleSplit(n_splits=5, test_size=0.25, random_state=42)\n",
    "\n",
    "# Create the logistic regression model\n",
    "logistic_regression = LogisticRegression(max_iter= 2000, random_state=42)\n",
    "\n",
    "# Perform hyperparameter tuning using GridSearchCV\n",
    "grid_search = GridSearchCV(logistic_regression, param_grid, cv=split_data, scoring='balanced_accuracy')\n",
    "grid_search.fit(x_train, y_train, groups=df_train['Info_cluster'])\n",
    "\n",
    "# Get the best hyperparameters\n",
    "best_params = grid_search.best_params_\n",
    "\n",
    "# Fit the model with the best hyperparameters\n",
    "best_model = LogisticRegression(**best_params,max_iter=2000, random_state=42)\n",
    "best_model.fit(x_train, y_train)\n",
    "\n",
    "# Evaluate the model\n",
    "balanced_accuracy = balanced_accuracy_score(y_test, best_model.predict(x_test))\n",
    "print(\"Best hyperparameters:\", best_params)\n",
    "print(\"Balanced Accuracy:\", balanced_accuracy)"
   ]
  },
  {
   "cell_type": "markdown",
   "id": "33cda072",
   "metadata": {},
   "source": [
    "## Pipeline\n",
    "\n",
    "Creating a pipeline using the preprocessing and classifer modelling steps"
   ]
  },
  {
   "cell_type": "code",
   "execution_count": 174,
   "id": "f6343722",
   "metadata": {},
   "outputs": [
    {
     "name": "stderr",
     "output_type": "stream",
     "text": [
      "C:\\Users\\nadla\\AppData\\Local\\Temp\\ipykernel_21364\\1210690858.py:14: SettingWithCopyWarning: \n",
      "A value is trying to be set on a copy of a slice from a DataFrame\n",
      "\n",
      "See the caveats in the documentation: https://pandas.pydata.org/pandas-docs/stable/user_guide/indexing.html#returning-a-view-versus-a-copy\n",
      "  train_features.drop(columns = ['feat_esm1b_1280'], inplace = True)\n"
     ]
    },
    {
     "name": "stdout",
     "output_type": "stream",
     "text": [
      "Balanced Accuracy: 0.8383932858662063\n"
     ]
    },
    {
     "name": "stderr",
     "output_type": "stream",
     "text": [
      "C:\\Users\\nadla\\AppData\\Local\\Temp\\ipykernel_21364\\1210690858.py:19: SettingWithCopyWarning: \n",
      "A value is trying to be set on a copy of a slice from a DataFrame\n",
      "\n",
      "See the caveats in the documentation: https://pandas.pydata.org/pandas-docs/stable/user_guide/indexing.html#returning-a-view-versus-a-copy\n",
      "  test_features.drop(columns = ['feat_esm1b_1280'], inplace = True)\n"
     ]
    }
   ],
   "source": [
    "from sklearn.pipeline import Pipeline\n",
    "from sklearn.feature_selection import SelectKBest, mutual_info_classif\n",
    "from sklearn.base import BaseEstimator, TransformerMixin\n",
    "\n",
    "    \n",
    "pipeline = Pipeline([\n",
    "    ('scaler', MinMaxScaler()),  \n",
    "    ('feature_selection', SelectKBest(mutual_info_classif, k=371)),  \n",
    "    ('classifier', LogisticRegression(**best_params, class_weight = 'balanced', max_iter=2000, random_state=42))  \n",
    "])\n",
    "\n",
    "#Drop last feature column as new data doesn't contain this\n",
    "\n",
    "train_features.drop(columns = ['feat_esm1b_1280'], inplace = True)\n",
    "pipeline.fit(train_features, target_train)\n",
    "\n",
    "test_features = test_set.filter(regex='^(feat_)')\n",
    "target_test = test_set['Class']\n",
    "test_features.drop(columns = ['feat_esm1b_1280'], inplace = True)\n",
    "balanced_accuracy = balanced_accuracy_score(target_test, pipeline.predict(test_features))\n",
    "print(\"Balanced Accuracy:\", balanced_accuracy)"
   ]
  },
  {
   "cell_type": "markdown",
   "id": "6985a671",
   "metadata": {},
   "source": [
    "## Pedictions on Holdout set\n",
    "\n",
    "Read the new data to understand its structure and use the pipeline to determine prediction values for the classes of the features provided."
   ]
  },
  {
   "cell_type": "code",
   "execution_count": 175,
   "id": "06658c90",
   "metadata": {},
   "outputs": [
    {
     "name": "stdout",
     "output_type": "stream",
     "text": [
      "<bound method NDFrame.describe of          Info_PepID  Info_organism_id Info_protein_id  Info_pos Info_AA  \\\n",
      "0      CAA40511.1:2              5693      CAA40511.1        41       E   \n",
      "1      CAA40511.1:2              5693      CAA40511.1        42       L   \n",
      "2      CAA40511.1:2              5693      CAA40511.1        43       F   \n",
      "3      CAA40511.1:2              5693      CAA40511.1        44       K   \n",
      "4      CAA40511.1:2              5693      CAA40511.1        45       R   \n",
      "...             ...               ...             ...       ...     ...   \n",
      "5607  EAN90963.1:16              5693      EAN90963.1       724       V   \n",
      "5608  EAN90963.1:16              5693      EAN90963.1       725       C   \n",
      "5609  EAN90963.1:16              5693      EAN90963.1       726       V   \n",
      "5610  EAN90963.1:16              5693      EAN90963.1       727       R   \n",
      "5611  EAN90963.1:16              5693      EAN90963.1       728       K   \n",
      "\n",
      "     Info_epitope_id Info_nPos Info_nNeg  Info_cluster  feat_esm1b_0  ...  \\\n",
      "0             282110         0         1             5     -0.031116  ...   \n",
      "1             282110         0         1             5     -0.073993  ...   \n",
      "2             282110         0         1             5      0.161300  ...   \n",
      "3             282110         0         1             5     -0.046168  ...   \n",
      "4      282110,371727       0,0       1,1             5     -0.120631  ...   \n",
      "...              ...       ...       ...           ...           ...  ...   \n",
      "5607         1597377         0         1             6      0.048709  ...   \n",
      "5608         1597377         0         1             6     -0.288208  ...   \n",
      "5609         1597377         0         1             6     -0.163599  ...   \n",
      "5610         1597377         0         1             6     -0.185391  ...   \n",
      "5611         1597377         0         1             6      0.137497  ...   \n",
      "\n",
      "      feat_esm1b_1270  feat_esm1b_1271  feat_esm1b_1272  feat_esm1b_1273  \\\n",
      "0            0.301178        -0.325451         0.112153         0.007971   \n",
      "1            0.397527        -0.362084        -0.094807         0.000975   \n",
      "2            0.367479        -0.377937         0.182141        -0.119339   \n",
      "3            0.258322        -0.522336        -0.041038        -0.125560   \n",
      "4            0.473081        -0.513308        -0.158414         0.264411   \n",
      "...               ...              ...              ...              ...   \n",
      "5607         0.047661        -0.105227         0.034599         0.157104   \n",
      "5608         0.115349         0.011237         0.306305         0.071197   \n",
      "5609         0.099798         0.033678         0.110067         0.101344   \n",
      "5610         0.337999        -0.011636         0.077776         0.197651   \n",
      "5611         0.079865        -0.111255         0.153355        -0.000653   \n",
      "\n",
      "      feat_esm1b_1274  feat_esm1b_1275  feat_esm1b_1276  feat_esm1b_1277  \\\n",
      "0           -0.668731        -0.089934         0.227472        -0.269797   \n",
      "1           -0.513940        -0.032124         0.316069         0.026109   \n",
      "2           -0.564217        -0.144695         0.148942        -0.061519   \n",
      "3           -0.952776        -0.206039         0.216684        -0.066029   \n",
      "4           -0.604857        -0.265395         0.263114         0.132495   \n",
      "...               ...              ...              ...              ...   \n",
      "5607        -0.866290        -0.204642         0.130174         0.120161   \n",
      "5608        -0.616032        -0.109675         0.039864         0.192542   \n",
      "5609        -0.792792        -0.304815         0.036528         0.053689   \n",
      "5610        -0.628092        -0.446030        -0.093285         0.148441   \n",
      "5611        -0.991378        -0.284974        -0.198546         0.103308   \n",
      "\n",
      "      feat_esm1b_1278  feat_esm1b_1279  \n",
      "0            0.334501         0.268454  \n",
      "1            0.384924         0.292579  \n",
      "2            0.357496         0.345236  \n",
      "3            0.495582         0.452532  \n",
      "4            0.264181         0.388619  \n",
      "...               ...              ...  \n",
      "5607         0.155612         0.126659  \n",
      "5608        -0.081450        -0.111167  \n",
      "5609         0.172645         0.023709  \n",
      "5610         0.227690        -0.152317  \n",
      "5611         0.427970        -0.113664  \n",
      "\n",
      "[5612 rows x 1289 columns]>\n",
      "<class 'pandas.core.frame.DataFrame'>\n",
      "RangeIndex: 5612 entries, 0 to 5611\n",
      "Columns: 1289 entries, Info_PepID to feat_esm1b_1279\n",
      "dtypes: float64(1280), int64(3), object(6)\n",
      "memory usage: 55.2+ MB\n",
      "None\n"
     ]
    }
   ],
   "source": [
    "df_holdout=pd.read_csv('df_holdout.csv', sep = ';')\n",
    "print (df_holdout.describe) #shows the data in table\n",
    "print (df_holdout.info()) #givs information relating to data\n"
   ]
  },
  {
   "cell_type": "code",
   "execution_count": 176,
   "id": "2340bcb6",
   "metadata": {},
   "outputs": [
    {
     "name": "stdout",
     "output_type": "stream",
     "text": [
      "[-1 -1 -1 ... -1 -1 -1]\n"
     ]
    }
   ],
   "source": [
    "#Drop feature 148 from data as not part of the training data\n",
    "\n",
    "df_holdout.drop(columns = ['feat_esm1b_148'], inplace = True)\n",
    "test_holdout_features = df_holdout.filter(regex='^(feat_)') #split data into features\n",
    "predicted_class= pipeline.predict(test_holdout_features) # predict class data\n",
    "print (predicted_class)"
   ]
  },
  {
   "cell_type": "code",
   "execution_count": 177,
   "id": "fe19f0a7",
   "metadata": {},
   "outputs": [],
   "source": [
    "# Put togeter the data predictions with its corresponding Info_PepID and Info_pos\n",
    "df_predictions = pd.DataFrame({\n",
    "    'Info_PepID': df_holdout['Info_PepID'],\n",
    "    'Info_pos': df_holdout['Info_pos'],\n",
    "    'Prediction': y_pred[df_holdout.index]\n",
    "})\n",
    "\n",
    "df_predictions.to_csv('Predictions.csv', index=False)"
   ]
  },
  {
   "cell_type": "code",
   "execution_count": null,
   "id": "cf082539",
   "metadata": {},
   "outputs": [],
   "source": []
  }
 ],
 "metadata": {
  "kernelspec": {
   "display_name": "Python 3 (ipykernel)",
   "language": "python",
   "name": "python3"
  },
  "language_info": {
   "codemirror_mode": {
    "name": "ipython",
    "version": 3
   },
   "file_extension": ".py",
   "mimetype": "text/x-python",
   "name": "python",
   "nbconvert_exporter": "python",
   "pygments_lexer": "ipython3",
   "version": "3.11.4"
  }
 },
 "nbformat": 4,
 "nbformat_minor": 5
}
